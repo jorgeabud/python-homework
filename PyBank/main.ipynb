{
 "metadata": {
  "language_info": {
   "codemirror_mode": {
    "name": "ipython",
    "version": 3
   },
   "file_extension": ".py",
   "mimetype": "text/x-python",
   "name": "python",
   "nbconvert_exporter": "python",
   "pygments_lexer": "ipython3",
   "version": "3.7.6-final"
  },
  "orig_nbformat": 2,
  "kernelspec": {
   "name": "Python 3.7.6 64-bit ('base': conda)",
   "display_name": "Python 3.7.6 64-bit ('base': conda)",
   "metadata": {
    "interpreter": {
     "hash": "7d5c4801ed2f7111b96636c312e7b40cdf96baf0f798db38a95b8dd3c0de6eb6"
    }
   }
  }
 },
 "nbformat": 4,
 "nbformat_minor": 2,
 "cells": [
  {
   "cell_type": "code",
   "execution_count": 3,
   "metadata": {},
   "outputs": [],
   "source": [
    "from pathlib import Path\n",
    "import csv"
   ]
  },
  {
   "cell_type": "code",
   "execution_count": 4,
   "metadata": {},
   "outputs": [],
   "source": [
    "filepath = Path(\"./budget_data.csv\")"
   ]
  },
  {
   "source": [
    "## Net total amount of Profit/losses over the entire period\n"
   ],
   "cell_type": "markdown",
   "metadata": {}
  },
  {
   "cell_type": "code",
   "execution_count": 5,
   "metadata": {
    "tags": []
   },
   "outputs": [
    {
     "output_type": "stream",
     "name": "stdout",
     "text": "Total: $ 38382578\n"
    }
   ],
   "source": [
    "with open(filepath, \"r\") as csvfile:\n",
    "    csvreader = csv.reader(csvfile)\n",
    "\n",
    "    profit = 0\n",
    "    header = next(csvreader)\n",
    "\n",
    "    for row in csvreader:\n",
    "        profit += int(row[1])\n",
    "    \n",
    "print(\"Total: $\", profit)"
   ]
  },
  {
   "source": [
    "## Total number of months"
   ],
   "cell_type": "markdown",
   "metadata": {}
  },
  {
   "cell_type": "code",
   "execution_count": 6,
   "metadata": {
    "tags": []
   },
   "outputs": [
    {
     "output_type": "stream",
     "name": "stdout",
     "text": "Total Months: 86\n"
    }
   ],
   "source": [
    "total_months = 0\n",
    "\n",
    "with open(filepath, \"r\") as csvfile:\n",
    "    csvreader = csv.reader(csvfile)\n",
    "    \n",
    "    header = next(csvreader)\n",
    "    \n",
    "    for row in csvreader:\n",
    "        total_months += 1\n",
    "        \n",
    "print(\"Total Months:\", total_months)"
   ]
  },
  {
   "source": [
    "## Average Change"
   ],
   "cell_type": "markdown",
   "metadata": {}
  },
  {
   "cell_type": "code",
   "execution_count": 7,
   "metadata": {
    "tags": []
   },
   "outputs": [
    {
     "output_type": "stream",
     "name": "stdout",
     "text": "Average Change: $ -2315.12\n"
    }
   ],
   "source": [
    "with open(filepath, \"r\") as csvfile:\n",
    "    csvreader = csv.reader(csvfile)\n",
    "\n",
    "    header = next(csvreader)\n",
    "\n",
    "    profit_previous_line = 0\n",
    "    compute = False\n",
    "    total_difference= 0 \n",
    "\n",
    "    for row in csvreader:\n",
    "        \n",
    "        if compute == True:\n",
    "            profit_difference = float(row[1]) - profit_previous_line\n",
    "            total_difference += profit_difference\n",
    "            profit_previous_line = float(row[1])\n",
    "        \n",
    "        else:\n",
    "            profit_previous_line = float(row[1])\n",
    "            total_difference = 0\n",
    "            compute = True\n",
    "\n",
    "    avg_change = round((total_difference / (total_months - 1)),2)\n",
    "    print(\"Average Change: $\", avg_change)"
   ]
  },
  {
   "source": [
    "## Maximum Increase and Minimmum Decrease"
   ],
   "cell_type": "markdown",
   "metadata": {}
  },
  {
   "cell_type": "code",
   "execution_count": 36,
   "metadata": {
    "tags": []
   },
   "outputs": [
    {
     "output_type": "stream",
     "name": "stdout",
     "text": "Greatest Increase in Profits: 1926159\nGreatest Decrease in Porfits: -2196167\n"
    }
   ],
   "source": [
    "with open(filepath, \"r\") as csvfile:\n",
    "    csvreader = csv.reader(csvfile)\n",
    "\n",
    "    header = next(csvreader)\n",
    "\n",
    "    profits_or_losses = []\n",
    "    months = []\n",
    "\n",
    "    for row in csvreader:\n",
    "\n",
    "        profits_or_losses.append(int(row[1]))\n",
    "\n",
    "        months.append(row[0])\n",
    "\n",
    "    profit_difference = []\n",
    "\n",
    "    for x in range(1, len(profits_or_losses)):\n",
    "        profit_difference.append((int(profits_or_losses[x]) - int(profits_or_losses[x-1])))\n",
    "\n",
    "    greatest_increase = max(profit_difference)\n",
    "    greatest_decrease = min(profit_difference)\n",
    "\n",
    "print(\"Greatest Increase in Profits:\", greatest_increase)\n",
    "print(\"Greatest Decrease in Porfits:\", greatest_decrease) "
   ]
  },
  {
   "source": [
    "## Final Analysis"
   ],
   "cell_type": "markdown",
   "metadata": {}
  },
  {
   "cell_type": "code",
   "execution_count": 38,
   "metadata": {
    "tags": []
   },
   "outputs": [
    {
     "output_type": "stream",
     "name": "stdout",
     "text": "Financial Analysis\n---------------------------\nTotal Months: 86\nTotal: $ 38382578\nAverage Change: $ -2315.12\nGreatest Increase in Profits: $ 1926159\nGreatest Decrease in Porfits: $ -2196167\n"
    }
   ],
   "source": [
    "print(\"Financial Analysis\")\n",
    "print(\"---------------------------\")\n",
    "print(\"Total Months:\", total_months)\n",
    "print(\"Total: $\", profit)\n",
    "print(\"Average Change: $\", avg_change)\n",
    "print(\"Greatest Increase in Profits: $\", greatest_increase)\n",
    "print(\"Greatest Decrease in Porfits: $\", greatest_decrease)"
   ]
  },
  {
   "cell_type": "code",
   "execution_count": null,
   "metadata": {},
   "outputs": [],
   "source": []
  }
 ]
}